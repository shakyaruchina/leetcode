{
 "cells": [
  {
   "cell_type": "code",
   "execution_count": null,
   "id": "d9d396a4",
   "metadata": {},
   "outputs": [],
   "source": [
    "class Solution:\n",
    "    def topKFrequent(self, nums:List[int], k:int)-> List[int]:\n",
    "        count = {}\n",
    "        freq = [[] for _ in range(len(nums)+1)]\n",
    "        \n",
    "        for n in nums:\n",
    "            count[n] = 1+ count.get(n,0)\n",
    "        for n,c in count.items():\n",
    "            freq[c].append(n)\n",
    "            \n",
    "        res =[]\n",
    "        for i in range(len(freq)-1, 0, -1):\n",
    "            for n in freq[i]:\n",
    "                res.append(n)\n",
    "                if len(res) == k:\n",
    "                    return res"
   ]
  }
 ],
 "metadata": {
  "kernelspec": {
   "display_name": "Python 3 (ipykernel)",
   "language": "python",
   "name": "python3"
  },
  "language_info": {
   "codemirror_mode": {
    "name": "ipython",
    "version": 3
   },
   "file_extension": ".py",
   "mimetype": "text/x-python",
   "name": "python",
   "nbconvert_exporter": "python",
   "pygments_lexer": "ipython3",
   "version": "3.11.4"
  }
 },
 "nbformat": 4,
 "nbformat_minor": 5
}
