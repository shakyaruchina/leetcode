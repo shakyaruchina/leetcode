{
 "cells": [
  {
   "cell_type": "code",
   "execution_count": 3,
   "id": "adb00de4",
   "metadata": {},
   "outputs": [
    {
     "name": "stdout",
     "output_type": "stream",
     "text": [
      "True\n"
     ]
    }
   ],
   "source": [
    "from typing import List\n",
    "class Solution:\n",
    "    def contDuplicate(self,nums:List[int])->bool:\n",
    "        #hashset for uniqie values\n",
    "        hashset = set()\n",
    "        \n",
    "        for n in nums:\n",
    "            if n in hashset:\n",
    "                return True\n",
    "            hashset.add(n)\n",
    "        return False\n",
    "    \n",
    "nums = [1,2,3,4,5,2,2]\n",
    "solution = Solution()\n",
    "print(solution.contDuplicate(nums))"
   ]
  },
  {
   "cell_type": "markdown",
   "id": "e5a94d4b",
   "metadata": {},
   "source": []
  }
 ],
 "metadata": {
  "kernelspec": {
   "display_name": "Python 3 (ipykernel)",
   "language": "python",
   "name": "python3"
  },
  "language_info": {
   "codemirror_mode": {
    "name": "ipython",
    "version": 3
   },
   "file_extension": ".py",
   "mimetype": "text/x-python",
   "name": "python",
   "nbconvert_exporter": "python",
   "pygments_lexer": "ipython3",
   "version": "3.11.4"
  }
 },
 "nbformat": 4,
 "nbformat_minor": 5
}
