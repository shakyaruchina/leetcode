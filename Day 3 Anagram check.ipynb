{
 "cells": [
  {
   "cell_type": "code",
   "execution_count": 1,
   "id": "1c0ab2fd",
   "metadata": {},
   "outputs": [
    {
     "name": "stdout",
     "output_type": "stream",
     "text": [
      "True\n"
     ]
    }
   ],
   "source": [
    "#Two different words made up of same letters\n",
    "class Solution:\n",
    "    def isAnagram(self, s:str, t:str)->bool:\n",
    "        if len(s)!= len(t):\n",
    "            return False\n",
    "        countS, countT = {}, {}\n",
    "        for i in range(len(s)):\n",
    "            countS[s[i]] = 1 + countS.get(s[i],0)\n",
    "            countT[t[i]] = 1 + countT.get(t[i],0)\n",
    "        return countS == countT\n",
    "    \n",
    "s = \"may\"\n",
    "t = \"yam\"\n",
    "solution = Solution()\n",
    "print(solution.isAnagram(s,t))"
   ]
  },
  {
   "cell_type": "code",
   "execution_count": null,
   "id": "e2957104",
   "metadata": {},
   "outputs": [],
   "source": []
  }
 ],
 "metadata": {
  "kernelspec": {
   "display_name": "Python 3 (ipykernel)",
   "language": "python",
   "name": "python3"
  },
  "language_info": {
   "codemirror_mode": {
    "name": "ipython",
    "version": 3
   },
   "file_extension": ".py",
   "mimetype": "text/x-python",
   "name": "python",
   "nbconvert_exporter": "python",
   "pygments_lexer": "ipython3",
   "version": "3.11.4"
  }
 },
 "nbformat": 4,
 "nbformat_minor": 5
}
