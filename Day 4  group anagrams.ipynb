{
 "cells": [
  {
   "cell_type": "code",
   "execution_count": 3,
   "id": "174e9381",
   "metadata": {},
   "outputs": [
    {
     "name": "stdout",
     "output_type": "stream",
     "text": [
      "dict_values([['cat'], ['apple', 'lappe'], ['ball', 'allb'], ['tap', 'pat']])\n"
     ]
    }
   ],
   "source": [
    "from typing import List\n",
    "import collections\n",
    "\n",
    "class Solution:\n",
    "    def groupAnagrams(self,strs: List[str])->List[List[str]]:\n",
    "        ans = collections.defaultdict(list)\n",
    "        \n",
    "        for s in strs:\n",
    "            count =[0] * 26\n",
    "            for c in s:\n",
    "                count[ord(c)-ord(\"a\")] += 1\n",
    "            ans[tuple(count)].append(s)\n",
    "        return ans.values()\n",
    "    \n",
    "solution = Solution()\n",
    "strs = [\"cat\",\"apple\",\"ball\", \"tap\", \"pat\", \"lappe\", \"allb\"]\n",
    "print(solution.groupAnagrams(strs))"
   ]
  },
  {
   "cell_type": "code",
   "execution_count": null,
   "id": "75a45703",
   "metadata": {},
   "outputs": [],
   "source": []
  }
 ],
 "metadata": {
  "kernelspec": {
   "display_name": "Python 3 (ipykernel)",
   "language": "python",
   "name": "python3"
  },
  "language_info": {
   "codemirror_mode": {
    "name": "ipython",
    "version": 3
   },
   "file_extension": ".py",
   "mimetype": "text/x-python",
   "name": "python",
   "nbconvert_exporter": "python",
   "pygments_lexer": "ipython3",
   "version": "3.11.4"
  }
 },
 "nbformat": 4,
 "nbformat_minor": 5
}
